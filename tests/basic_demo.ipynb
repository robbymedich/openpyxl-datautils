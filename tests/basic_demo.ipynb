{
 "cells": [
  {
   "cell_type": "markdown",
   "id": "5b560272-339d-4fa2-8d3d-bcae223c9c81",
   "metadata": {},
   "source": [
    "# Basic usage of CellRange object\n",
    "This notebook walks through a few very basic examples of how to use the CellRange object to read and write data to an Excel workbook."
   ]
  },
  {
   "cell_type": "code",
   "execution_count": 1,
   "id": "fdd15965-2a20-4850-a999-dca04c974657",
   "metadata": {},
   "outputs": [],
   "source": [
    "from openpyxl_datautils import CellRange, load_workbook\n",
    "import openpyxl"
   ]
  },
  {
   "cell_type": "markdown",
   "id": "c6667cfe-8be2-439c-929d-3c6041386e90",
   "metadata": {},
   "source": [
    "# Read data from merge_example.xlsx\n",
    "Demo a few of the options we have to read data from an Excel Workbook using the CellRange object. Values only appear in the first cell for merged cells (openpyxl provides additional support for merged cells if this is needed).\n",
    "\n",
    "## Test reading used range in a sheet"
   ]
  },
  {
   "cell_type": "code",
   "execution_count": 2,
   "id": "bfc8c1e7-9e0f-495d-be90-29994fd99008",
   "metadata": {},
   "outputs": [
    {
     "name": "stdout",
     "output_type": "stream",
     "text": [
      "['Sheet1']\n"
     ]
    }
   ],
   "source": [
    "workbook = openpyxl.load_workbook(r'.\\workbooks\\merge_example.xlsx', read_only=True, data_only=True)\n",
    "print(workbook.sheetnames)"
   ]
  },
  {
   "cell_type": "code",
   "execution_count": 3,
   "id": "47313b15-4303-4167-909b-aacb56c70b31",
   "metadata": {},
   "outputs": [],
   "source": [
    "worksheet = workbook['Sheet1']"
   ]
  },
  {
   "cell_type": "code",
   "execution_count": 4,
   "id": "ac97c7a9-fad9-423c-98e4-0f20decf67b9",
   "metadata": {},
   "outputs": [
    {
     "data": {
      "text/html": [
       "<div>\n",
       "<style scoped>\n",
       "    .dataframe tbody tr th:only-of-type {\n",
       "        vertical-align: middle;\n",
       "    }\n",
       "\n",
       "    .dataframe tbody tr th {\n",
       "        vertical-align: top;\n",
       "    }\n",
       "\n",
       "    .dataframe thead th {\n",
       "        text-align: right;\n",
       "    }\n",
       "</style>\n",
       "<table border=\"1\" class=\"dataframe\">\n",
       "  <thead>\n",
       "    <tr style=\"text-align: right;\">\n",
       "      <th></th>\n",
       "      <th>L</th>\n",
       "      <th>M</th>\n",
       "      <th>N</th>\n",
       "      <th>O</th>\n",
       "    </tr>\n",
       "  </thead>\n",
       "  <tbody>\n",
       "    <tr>\n",
       "      <th>15</th>\n",
       "      <td>Random List of Holidays - Test Read of Merged ...</td>\n",
       "      <td>None</td>\n",
       "      <td>None</td>\n",
       "      <td>None</td>\n",
       "    </tr>\n",
       "    <tr>\n",
       "      <th>16</th>\n",
       "      <td>None</td>\n",
       "      <td>None</td>\n",
       "      <td>None</td>\n",
       "      <td>None</td>\n",
       "    </tr>\n",
       "    <tr>\n",
       "      <th>17</th>\n",
       "      <td>Holiday</td>\n",
       "      <td>Target Date</td>\n",
       "      <td>Weekday</td>\n",
       "      <td>None</td>\n",
       "    </tr>\n",
       "    <tr>\n",
       "      <th>18</th>\n",
       "      <td>Labor Day</td>\n",
       "      <td>2021-09-06 00:00:00</td>\n",
       "      <td>Monday</td>\n",
       "      <td>None</td>\n",
       "    </tr>\n",
       "    <tr>\n",
       "      <th>19</th>\n",
       "      <td>Veterans Day</td>\n",
       "      <td>2021-11-11 00:00:00</td>\n",
       "      <td>Thursday</td>\n",
       "      <td>None</td>\n",
       "    </tr>\n",
       "    <tr>\n",
       "      <th>20</th>\n",
       "      <td>Thanksgiving Day</td>\n",
       "      <td>2021-11-25 00:00:00</td>\n",
       "      <td>Thursday</td>\n",
       "      <td>None</td>\n",
       "    </tr>\n",
       "    <tr>\n",
       "      <th>21</th>\n",
       "      <td>Christmas Day</td>\n",
       "      <td>2021-12-25 00:00:00</td>\n",
       "      <td>Saturday</td>\n",
       "      <td>None</td>\n",
       "    </tr>\n",
       "    <tr>\n",
       "      <th>22</th>\n",
       "      <td>New Year Day</td>\n",
       "      <td>2022-01-01 00:00:00</td>\n",
       "      <td>Saturday</td>\n",
       "      <td>None</td>\n",
       "    </tr>\n",
       "    <tr>\n",
       "      <th>23</th>\n",
       "      <td>Serbian Christmas</td>\n",
       "      <td>2022-01-07 00:00:00</td>\n",
       "      <td>Friday</td>\n",
       "      <td>None</td>\n",
       "    </tr>\n",
       "    <tr>\n",
       "      <th>24</th>\n",
       "      <td>Martin Luther King Junior Day</td>\n",
       "      <td>2022-01-17 00:00:00</td>\n",
       "      <td>Monday</td>\n",
       "      <td>None</td>\n",
       "    </tr>\n",
       "    <tr>\n",
       "      <th>25</th>\n",
       "      <td>President's Day</td>\n",
       "      <td>2022-02-21 00:00:00</td>\n",
       "      <td>Monday</td>\n",
       "      <td>None</td>\n",
       "    </tr>\n",
       "    <tr>\n",
       "      <th>26</th>\n",
       "      <td>Easter</td>\n",
       "      <td>2022-04-17 00:00:00</td>\n",
       "      <td>Sunday</td>\n",
       "      <td>None</td>\n",
       "    </tr>\n",
       "    <tr>\n",
       "      <th>27</th>\n",
       "      <td>Memorial Day</td>\n",
       "      <td>2022-05-30 00:00:00</td>\n",
       "      <td>Monday</td>\n",
       "      <td>None</td>\n",
       "    </tr>\n",
       "    <tr>\n",
       "      <th>28</th>\n",
       "      <td>Independence Day</td>\n",
       "      <td>2022-07-04 00:00:00</td>\n",
       "      <td>Monday</td>\n",
       "      <td>None</td>\n",
       "    </tr>\n",
       "    <tr>\n",
       "      <th>29</th>\n",
       "      <td>Labor Day</td>\n",
       "      <td>2022-09-05 00:00:00</td>\n",
       "      <td>Monday</td>\n",
       "      <td>None</td>\n",
       "    </tr>\n",
       "    <tr>\n",
       "      <th>30</th>\n",
       "      <td>Veterans Day</td>\n",
       "      <td>2022-11-11 00:00:00</td>\n",
       "      <td>Friday</td>\n",
       "      <td>None</td>\n",
       "    </tr>\n",
       "    <tr>\n",
       "      <th>31</th>\n",
       "      <td>Thanksgiving Day</td>\n",
       "      <td>2022-11-24 00:00:00</td>\n",
       "      <td>Thursday</td>\n",
       "      <td>None</td>\n",
       "    </tr>\n",
       "    <tr>\n",
       "      <th>32</th>\n",
       "      <td>Christmas Day</td>\n",
       "      <td>2022-12-25 00:00:00</td>\n",
       "      <td>Sunday</td>\n",
       "      <td>None</td>\n",
       "    </tr>\n",
       "  </tbody>\n",
       "</table>\n",
       "</div>"
      ],
      "text/plain": [
       "                                                    L                    M  \\\n",
       "15  Random List of Holidays - Test Read of Merged ...                 None   \n",
       "16                                               None                 None   \n",
       "17                                            Holiday          Target Date   \n",
       "18                                          Labor Day  2021-09-06 00:00:00   \n",
       "19                                       Veterans Day  2021-11-11 00:00:00   \n",
       "20                                   Thanksgiving Day  2021-11-25 00:00:00   \n",
       "21                                      Christmas Day  2021-12-25 00:00:00   \n",
       "22                                       New Year Day  2022-01-01 00:00:00   \n",
       "23                                  Serbian Christmas  2022-01-07 00:00:00   \n",
       "24                      Martin Luther King Junior Day  2022-01-17 00:00:00   \n",
       "25                                    President's Day  2022-02-21 00:00:00   \n",
       "26                                             Easter  2022-04-17 00:00:00   \n",
       "27                                       Memorial Day  2022-05-30 00:00:00   \n",
       "28                                   Independence Day  2022-07-04 00:00:00   \n",
       "29                                          Labor Day  2022-09-05 00:00:00   \n",
       "30                                       Veterans Day  2022-11-11 00:00:00   \n",
       "31                                   Thanksgiving Day  2022-11-24 00:00:00   \n",
       "32                                      Christmas Day  2022-12-25 00:00:00   \n",
       "\n",
       "           N     O  \n",
       "15      None  None  \n",
       "16      None  None  \n",
       "17   Weekday  None  \n",
       "18    Monday  None  \n",
       "19  Thursday  None  \n",
       "20  Thursday  None  \n",
       "21  Saturday  None  \n",
       "22  Saturday  None  \n",
       "23    Friday  None  \n",
       "24    Monday  None  \n",
       "25    Monday  None  \n",
       "26    Sunday  None  \n",
       "27    Monday  None  \n",
       "28    Monday  None  \n",
       "29    Monday  None  \n",
       "30    Friday  None  \n",
       "31  Thursday  None  \n",
       "32    Sunday  None  "
      ]
     },
     "execution_count": 4,
     "metadata": {},
     "output_type": "execute_result"
    }
   ],
   "source": [
    "CellRange.from_worksheet(worksheet).create_df(has_headers=False)"
   ]
  },
  {
   "cell_type": "markdown",
   "id": "f2804b7c-0c53-4679-86ce-427b98222282",
   "metadata": {},
   "source": [
    "## Test current_region method\n",
    "From the above output, we can see that data for our \"Holiday\" table starts in cell L15. We can provide this cell to our range object to get this data."
   ]
  },
  {
   "cell_type": "code",
   "execution_count": 5,
   "id": "f782083c-be6e-4cb0-93f3-78bacdef65b8",
   "metadata": {},
   "outputs": [
    {
     "data": {
      "text/plain": [
       "Sheet1!$L$17:$N$32"
      ]
     },
     "execution_count": 5,
     "metadata": {},
     "output_type": "execute_result"
    }
   ],
   "source": [
    "cell_range = CellRange.from_string(worksheet, 'L17').current_region()\n",
    "cell_range"
   ]
  },
  {
   "cell_type": "markdown",
   "id": "94a0ceed-d33c-43c1-8f63-49e42b6dacfd",
   "metadata": {},
   "source": [
    "We can iterate through this by looping through the values in the range."
   ]
  },
  {
   "cell_type": "code",
   "execution_count": 6,
   "id": "9a97196f-0bf1-4489-9677-d54e7a7c64a1",
   "metadata": {},
   "outputs": [
    {
     "name": "stdout",
     "output_type": "stream",
     "text": [
      "('Holiday', 'Target Date', 'Weekday')\n",
      "('Labor Day', datetime.datetime(2021, 9, 6, 0, 0), 'Monday')\n",
      "('Veterans Day', datetime.datetime(2021, 11, 11, 0, 0), 'Thursday')\n",
      "('Thanksgiving Day', datetime.datetime(2021, 11, 25, 0, 0), 'Thursday')\n",
      "('Christmas Day', datetime.datetime(2021, 12, 25, 0, 0), 'Saturday')\n",
      "('New Year Day', datetime.datetime(2022, 1, 1, 0, 0), 'Saturday')\n",
      "('Serbian Christmas', datetime.datetime(2022, 1, 7, 0, 0), 'Friday')\n",
      "('Martin Luther King Junior Day', datetime.datetime(2022, 1, 17, 0, 0), 'Monday')\n",
      "(\"President's Day\", datetime.datetime(2022, 2, 21, 0, 0), 'Monday')\n",
      "('Easter', datetime.datetime(2022, 4, 17, 0, 0), 'Sunday')\n",
      "('Memorial Day', datetime.datetime(2022, 5, 30, 0, 0), 'Monday')\n",
      "('Independence Day', datetime.datetime(2022, 7, 4, 0, 0), 'Monday')\n",
      "('Labor Day', datetime.datetime(2022, 9, 5, 0, 0), 'Monday')\n",
      "('Veterans Day', datetime.datetime(2022, 11, 11, 0, 0), 'Friday')\n",
      "('Thanksgiving Day', datetime.datetime(2022, 11, 24, 0, 0), 'Thursday')\n",
      "('Christmas Day', datetime.datetime(2022, 12, 25, 0, 0), 'Sunday')\n"
     ]
    }
   ],
   "source": [
    "for row in cell_range.values:\n",
    "    print(row)"
   ]
  },
  {
   "cell_type": "markdown",
   "id": "e44e1642-493d-4007-9a7b-a6955877e015",
   "metadata": {},
   "source": [
    "## Test create_df method\n",
    "This method will create a dataframe from the range of cells. One useful option is the expand_range flag, which will automatically expand the range from a starting row or cell to include adjacent data."
   ]
  },
  {
   "cell_type": "code",
   "execution_count": 7,
   "id": "a269f808-f9ba-48f7-9f12-5a298fc27fd0",
   "metadata": {},
   "outputs": [
    {
     "data": {
      "text/html": [
       "<div>\n",
       "<style scoped>\n",
       "    .dataframe tbody tr th:only-of-type {\n",
       "        vertical-align: middle;\n",
       "    }\n",
       "\n",
       "    .dataframe tbody tr th {\n",
       "        vertical-align: top;\n",
       "    }\n",
       "\n",
       "    .dataframe thead th {\n",
       "        text-align: right;\n",
       "    }\n",
       "</style>\n",
       "<table border=\"1\" class=\"dataframe\">\n",
       "  <thead>\n",
       "    <tr style=\"text-align: right;\">\n",
       "      <th></th>\n",
       "      <th>Holiday</th>\n",
       "      <th>Target Date</th>\n",
       "      <th>Weekday</th>\n",
       "    </tr>\n",
       "  </thead>\n",
       "  <tbody>\n",
       "    <tr>\n",
       "      <th>18</th>\n",
       "      <td>Labor Day</td>\n",
       "      <td>2021-09-06</td>\n",
       "      <td>Monday</td>\n",
       "    </tr>\n",
       "    <tr>\n",
       "      <th>19</th>\n",
       "      <td>Veterans Day</td>\n",
       "      <td>2021-11-11</td>\n",
       "      <td>Thursday</td>\n",
       "    </tr>\n",
       "    <tr>\n",
       "      <th>20</th>\n",
       "      <td>Thanksgiving Day</td>\n",
       "      <td>2021-11-25</td>\n",
       "      <td>Thursday</td>\n",
       "    </tr>\n",
       "    <tr>\n",
       "      <th>21</th>\n",
       "      <td>Christmas Day</td>\n",
       "      <td>2021-12-25</td>\n",
       "      <td>Saturday</td>\n",
       "    </tr>\n",
       "    <tr>\n",
       "      <th>22</th>\n",
       "      <td>New Year Day</td>\n",
       "      <td>2022-01-01</td>\n",
       "      <td>Saturday</td>\n",
       "    </tr>\n",
       "    <tr>\n",
       "      <th>23</th>\n",
       "      <td>Serbian Christmas</td>\n",
       "      <td>2022-01-07</td>\n",
       "      <td>Friday</td>\n",
       "    </tr>\n",
       "    <tr>\n",
       "      <th>24</th>\n",
       "      <td>Martin Luther King Junior Day</td>\n",
       "      <td>2022-01-17</td>\n",
       "      <td>Monday</td>\n",
       "    </tr>\n",
       "    <tr>\n",
       "      <th>25</th>\n",
       "      <td>President's Day</td>\n",
       "      <td>2022-02-21</td>\n",
       "      <td>Monday</td>\n",
       "    </tr>\n",
       "    <tr>\n",
       "      <th>26</th>\n",
       "      <td>Easter</td>\n",
       "      <td>2022-04-17</td>\n",
       "      <td>Sunday</td>\n",
       "    </tr>\n",
       "    <tr>\n",
       "      <th>27</th>\n",
       "      <td>Memorial Day</td>\n",
       "      <td>2022-05-30</td>\n",
       "      <td>Monday</td>\n",
       "    </tr>\n",
       "    <tr>\n",
       "      <th>28</th>\n",
       "      <td>Independence Day</td>\n",
       "      <td>2022-07-04</td>\n",
       "      <td>Monday</td>\n",
       "    </tr>\n",
       "    <tr>\n",
       "      <th>29</th>\n",
       "      <td>Labor Day</td>\n",
       "      <td>2022-09-05</td>\n",
       "      <td>Monday</td>\n",
       "    </tr>\n",
       "    <tr>\n",
       "      <th>30</th>\n",
       "      <td>Veterans Day</td>\n",
       "      <td>2022-11-11</td>\n",
       "      <td>Friday</td>\n",
       "    </tr>\n",
       "    <tr>\n",
       "      <th>31</th>\n",
       "      <td>Thanksgiving Day</td>\n",
       "      <td>2022-11-24</td>\n",
       "      <td>Thursday</td>\n",
       "    </tr>\n",
       "    <tr>\n",
       "      <th>32</th>\n",
       "      <td>Christmas Day</td>\n",
       "      <td>2022-12-25</td>\n",
       "      <td>Sunday</td>\n",
       "    </tr>\n",
       "  </tbody>\n",
       "</table>\n",
       "</div>"
      ],
      "text/plain": [
       "                          Holiday Target Date   Weekday\n",
       "18                      Labor Day  2021-09-06    Monday\n",
       "19                   Veterans Day  2021-11-11  Thursday\n",
       "20               Thanksgiving Day  2021-11-25  Thursday\n",
       "21                  Christmas Day  2021-12-25  Saturday\n",
       "22                   New Year Day  2022-01-01  Saturday\n",
       "23              Serbian Christmas  2022-01-07    Friday\n",
       "24  Martin Luther King Junior Day  2022-01-17    Monday\n",
       "25                President's Day  2022-02-21    Monday\n",
       "26                         Easter  2022-04-17    Sunday\n",
       "27                   Memorial Day  2022-05-30    Monday\n",
       "28               Independence Day  2022-07-04    Monday\n",
       "29                      Labor Day  2022-09-05    Monday\n",
       "30                   Veterans Day  2022-11-11    Friday\n",
       "31               Thanksgiving Day  2022-11-24  Thursday\n",
       "32                  Christmas Day  2022-12-25    Sunday"
      ]
     },
     "execution_count": 7,
     "metadata": {},
     "output_type": "execute_result"
    }
   ],
   "source": [
    "CellRange.from_string(worksheet, 'L17').create_df(expand_range=True)"
   ]
  },
  {
   "cell_type": "code",
   "execution_count": 8,
   "id": "4191ff0a-cef1-49f1-b19f-37fc607d7fab",
   "metadata": {},
   "outputs": [],
   "source": [
    "workbook.close()"
   ]
  },
  {
   "cell_type": "markdown",
   "id": "2b2d2c9c-8d96-45b5-9ad7-30d5985f5c37",
   "metadata": {},
   "source": [
    "# Write to demo_write.xlsx\n",
    "Copy the data from the above example into a new Excel file. Additionally, we'll use load_workbook to ensure the workbook we're reading from is always closed (prevents locks on file if a script errors)."
   ]
  },
  {
   "cell_type": "code",
   "execution_count": 9,
   "id": "d84b4101-bde5-4e42-9d83-4d3862880728",
   "metadata": {},
   "outputs": [],
   "source": [
    "with load_workbook(r'.\\workbooks\\merge_example.xlsx') as workbook:\n",
    "    cell_values = tuple(CellRange.from_string(workbook, 'Sheet1!L17:N32').values)\n",
    "    df = CellRange.from_string(workbook, 'Sheet1!L17:N32').create_df()  # used later"
   ]
  },
  {
   "cell_type": "code",
   "execution_count": 10,
   "id": "e138e57b-8d0d-43d4-96ce-67f89dfbefff",
   "metadata": {},
   "outputs": [
    {
     "data": {
      "text/plain": [
       "(('Holiday', 'Target Date', 'Weekday'),\n",
       " ('Labor Day', datetime.datetime(2021, 9, 6, 0, 0), 'Monday'),\n",
       " ('Veterans Day', datetime.datetime(2021, 11, 11, 0, 0), 'Thursday'),\n",
       " ('Thanksgiving Day', datetime.datetime(2021, 11, 25, 0, 0), 'Thursday'),\n",
       " ('Christmas Day', datetime.datetime(2021, 12, 25, 0, 0), 'Saturday'),\n",
       " ('New Year Day', datetime.datetime(2022, 1, 1, 0, 0), 'Saturday'),\n",
       " ('Serbian Christmas', datetime.datetime(2022, 1, 7, 0, 0), 'Friday'),\n",
       " ('Martin Luther King Junior Day',\n",
       "  datetime.datetime(2022, 1, 17, 0, 0),\n",
       "  'Monday'),\n",
       " (\"President's Day\", datetime.datetime(2022, 2, 21, 0, 0), 'Monday'),\n",
       " ('Easter', datetime.datetime(2022, 4, 17, 0, 0), 'Sunday'),\n",
       " ('Memorial Day', datetime.datetime(2022, 5, 30, 0, 0), 'Monday'),\n",
       " ('Independence Day', datetime.datetime(2022, 7, 4, 0, 0), 'Monday'),\n",
       " ('Labor Day', datetime.datetime(2022, 9, 5, 0, 0), 'Monday'),\n",
       " ('Veterans Day', datetime.datetime(2022, 11, 11, 0, 0), 'Friday'),\n",
       " ('Thanksgiving Day', datetime.datetime(2022, 11, 24, 0, 0), 'Thursday'),\n",
       " ('Christmas Day', datetime.datetime(2022, 12, 25, 0, 0), 'Sunday'))"
      ]
     },
     "execution_count": 10,
     "metadata": {},
     "output_type": "execute_result"
    }
   ],
   "source": [
    "cell_values"
   ]
  },
  {
   "cell_type": "code",
   "execution_count": 11,
   "id": "4f76279b-503e-4d4d-a8d1-5514fe3ae5a9",
   "metadata": {},
   "outputs": [],
   "source": [
    "workbook = openpyxl.Workbook()\n",
    "\n",
    "worksheet = workbook.active\n",
    "worksheet.title = 'tuple Export'"
   ]
  },
  {
   "cell_type": "code",
   "execution_count": 12,
   "id": "2fa7c09c-88da-484e-bf12-06a639c9c48c",
   "metadata": {},
   "outputs": [],
   "source": [
    "cell_range = CellRange.from_string(worksheet, 'A1:C16')\n",
    "cell_range.values = cell_values"
   ]
  },
  {
   "cell_type": "markdown",
   "id": "c7ed9a6b-5859-4271-b5b4-0fde61d152b3",
   "metadata": {},
   "source": [
    "It may often be more convenient to write directly from a DataFrame to a worksheet"
   ]
  },
  {
   "cell_type": "code",
   "execution_count": 13,
   "id": "a63408d6-5b7c-48ec-8a53-ac8fb14e3af0",
   "metadata": {},
   "outputs": [],
   "source": [
    "worksheet = workbook.create_sheet(title='df Export')"
   ]
  },
  {
   "cell_type": "code",
   "execution_count": 14,
   "id": "fca78c8a-8a05-4c13-a354-1be8e454582a",
   "metadata": {},
   "outputs": [],
   "source": [
    "CellRange.from_string(worksheet, 'A1').values = (('Export from Pandas DataFrame',),)  # always expects of rows, then columns with individual cell values"
   ]
  },
  {
   "cell_type": "code",
   "execution_count": 15,
   "id": "4b10adf8-a129-4a53-b2db-0e46e440e197",
   "metadata": {},
   "outputs": [],
   "source": [
    "CellRange.from_string(worksheet, 'A3').write_df(df, expand_range=True)"
   ]
  },
  {
   "cell_type": "code",
   "execution_count": 16,
   "id": "8df3b266-f865-4495-965e-3bd109d647a7",
   "metadata": {},
   "outputs": [],
   "source": [
    "workbook.save(r'.\\workbooks\\demo_write.xlsx')"
   ]
  },
  {
   "cell_type": "code",
   "execution_count": null,
   "id": "948c6679-a372-41de-97f5-43f69ec21cff",
   "metadata": {},
   "outputs": [],
   "source": []
  }
 ],
 "metadata": {
  "kernelspec": {
   "display_name": "Python 3 (ipykernel)",
   "language": "python",
   "name": "python3"
  },
  "language_info": {
   "codemirror_mode": {
    "name": "ipython",
    "version": 3
   },
   "file_extension": ".py",
   "mimetype": "text/x-python",
   "name": "python",
   "nbconvert_exporter": "python",
   "pygments_lexer": "ipython3",
   "version": "3.9.6"
  }
 },
 "nbformat": 4,
 "nbformat_minor": 5
}
